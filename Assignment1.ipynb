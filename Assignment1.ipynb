{
  "nbformat": 4,
  "nbformat_minor": 0,
  "metadata": {
    "colab": {
      "name": "Assignment1.ipynb",
      "provenance": [],
      "authorship_tag": "ABX9TyNk0C8TB3Az77PKF2KqrtcG",
      "include_colab_link": true
    },
    "kernelspec": {
      "name": "python3",
      "display_name": "Python 3"
    },
    "language_info": {
      "name": "python"
    }
  },
  "cells": [
    {
      "cell_type": "markdown",
      "metadata": {
        "id": "view-in-github",
        "colab_type": "text"
      },
      "source": [
        "<a href=\"https://colab.research.google.com/github/Srikanth1408/Assignment_1/blob/main/Assignment1.ipynb\" target=\"_parent\"><img src=\"https://colab.research.google.com/assets/colab-badge.svg\" alt=\"Open In Colab\"/></a>"
      ]
    },
    {
      "cell_type": "code",
      "metadata": {
        "id": "DyQbe66F31F2"
      },
      "source": [
        "import numpy as np\n",
        "import numpy as np\n",
        "import matplotlib.pyplot as plt\n",
        "from matplotlib.patches import Polygon\n",
        "def Rhombus_check (a,b,c,d):\n",
        "  z=(a,b,c,d)\n",
        "  s=0\n",
        "  i= np.abs(a-b)==np.abs(c-d)\n",
        "  j= np.abs(b-c)==np.abs(d-a)\n",
        "  if (i.all() and j.all()): \n",
        "    s+=1\n",
        "  k= (a-c) @ (b-d)\n",
        "  if (k==0):\n",
        "    s+=1\n",
        "  if (s==2):\n",
        "    print('Opposite sides are parallel')\n",
        "    print(\"Diagonals are perpendicular\")\n",
        "    print('Given points are vertices of a Rhombus ')\n",
        "    p = Polygon(z, closed=False)\n",
        "    ax = plt.gca()\n",
        "    ax.add_patch(p)\n",
        "    ax.set_xlim(-3,3)\n",
        "    ax.set_ylim(-3,3)\n",
        "    plt.show()\n",
        "  else:\n",
        "    print('Given points are not the vertices of a Rhombus ')\n",
        "    \n",
        "\n",
        "    \n",
        "\n",
        "\n"
      ],
      "execution_count": 10,
      "outputs": []
    },
    {
      "cell_type": "code",
      "metadata": {
        "colab": {
          "base_uri": "https://localhost:8080/"
        },
        "id": "fuEhkL1G37UD",
        "outputId": "430a6e20-5481-4210-934b-937e676bb81c"
      },
      "source": [
        "Rhombus_check(np.array([1,2]),np.array([3,4]),np.array([9,6]),np.array([7,8]))"
      ],
      "execution_count": 12,
      "outputs": [
        {
          "output_type": "stream",
          "name": "stdout",
          "text": [
            "Given points are not the vertices of a Rhombus \n"
          ]
        }
      ]
    },
    {
      "cell_type": "code",
      "metadata": {
        "id": "yv8Sj8OWpOQF",
        "outputId": "789f1d07-539b-4140-aaff-b14b27046ec3",
        "colab": {
          "base_uri": "https://localhost:8080/",
          "height": 321
        }
      },
      "source": [
        "Rhombus_check(np.array([0,3]),np.array([3,0]),np.array([0,-3]),np.array([-3,0]))"
      ],
      "execution_count": 13,
      "outputs": [
        {
          "output_type": "stream",
          "name": "stdout",
          "text": [
            "Opposite sides are parallel\n",
            "Diagonals are perpendicular\n",
            "Given points are vertices of a Rhombus \n"
          ]
        },
        {
          "output_type": "display_data",
          "data": {
            "image/png": "[encoded data removed]",
            "text/plain": [
              "<Figure size 432x288 with 1 Axes>"
            ]
          },
          "metadata": {
            "needs_background": "light"
          }
        }
      ]
    },
    {
      "cell_type": "code",
      "metadata": {
        "colab": {
          "base_uri": "https://localhost:8080/",
          "height": 321
        },
        "id": "VYftvc1K3-zd",
        "outputId": "08d8aaf5-d3f6-497d-df46-46a45414707c"
      },
      "source": [
        "Rhombus_check(np.array([0,1]),np.array([1,0]),np.array([0,-1]),np.array([-1,0]))"
      ],
      "execution_count": 11,
      "outputs": [
        {
          "output_type": "stream",
          "name": "stdout",
          "text": [
            "Opposite sides are parallel\n",
            "Diagonals are perpendicular\n",
            "Given points are vertices of a Rhombus \n"
          ]
        },
        {
          "output_type": "display_data",
          "data": {
            "image/png": "[encoded data removed]",
            "text/plain": [
              "<Figure size 432x288 with 1 Axes>"
            ]
          },
          "metadata": {
            "needs_background": "light"
          }
        }
      ]
    }
  ]
}