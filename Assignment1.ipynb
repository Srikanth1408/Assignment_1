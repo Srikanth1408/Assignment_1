{
  "nbformat": 4,
  "nbformat_minor": 0,
  "metadata": {
    "colab": {
      "name": "Assignment1.ipynb",
      "provenance": [],
      "authorship_tag": "ABX9TyNJ0C9gUrFsgBwHtA/PVcRi",
      "include_colab_link": true
    },
    "kernelspec": {
      "name": "python3",
      "display_name": "Python 3"
    },
    "language_info": {
      "name": "python"
    }
  },
  "cells": [
    {
      "cell_type": "markdown",
      "metadata": {
        "id": "view-in-github",
        "colab_type": "text"
      },
      "source": [
        "<a href=\"https://colab.research.google.com/github/Srikanth1408/Assignment_1/blob/main/Assignment1.ipynb\" target=\"_parent\"><img src=\"https://colab.research.google.com/assets/colab-badge.svg\" alt=\"Open In Colab\"/></a>"
      ]
    },
    {
      "cell_type": "code",
      "metadata": {
        "id": "DyQbe66F31F2"
      },
      "source": [
        "import numpy as np\n",
        "def Rhombus_check (a,b,c,d):\n",
        "  z=(a,b,c,d)\n",
        "  s=0\n",
        "  i= np.abs(a-b)==np.abs(c-d)\n",
        "  j= np.abs(b-c)==np.abs(d-a)\n",
        "  if (i.all() and j.all()): \n",
        "    s+=1\n",
        "  k=np.dot(np.transpose(a-c),(b-d))\n",
        "  if (k==0):\n",
        "    s+=1\n",
        "  if (s==2):\n",
        "    print('Opposite sides are parallel')\n",
        "    print(\"Diagonals are perpendicular\")\n",
        "    print('Given points are vertices of a Rhombus ')\n",
        "  else:\n",
        "    print('Given points are not the vertices of a Rhombus ')\n",
        "    \n",
        "\n",
        "\n"
      ],
      "execution_count": 1,
      "outputs": []
    },
    {
      "cell_type": "code",
      "metadata": {
        "colab": {
          "base_uri": "https://localhost:8080/"
        },
        "id": "fuEhkL1G37UD",
        "outputId": "79e12528-4129-4d7d-a9ea-f62d70914874"
      },
      "source": [
        "Rhombus_check(np.array([1,2]),np.array([3,4]),np.array([9,6]),np.array([7,8]))"
      ],
      "execution_count": 2,
      "outputs": [
        {
          "output_type": "stream",
          "name": "stdout",
          "text": [
            "Given points are not the vertices of a Rhombus \n"
          ]
        }
      ]
    },
    {
      "cell_type": "code",
      "metadata": {
        "colab": {
          "base_uri": "https://localhost:8080/"
        },
        "id": "VYftvc1K3-zd",
        "outputId": "b859b4d6-d0a0-49b2-d4ec-2fa1ec951934"
      },
      "source": [
        "Rhombus_check(np.array([0,1]),np.array([1,0]),np.array([0,-1]),np.array([-1,0]))"
      ],
      "execution_count": 3,
      "outputs": [
        {
          "output_type": "stream",
          "name": "stdout",
          "text": [
            "Opposite sides are parallel\n",
            "Diagonals are perpendicular\n",
            "Given points are vertices of a Rhombus \n"
          ]
        }
      ]
    }
  ]
}