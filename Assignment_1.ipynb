{
  "nbformat": 4,
  "nbformat_minor": 0,
  "metadata": {
    "colab": {
      "name": "Assignment_1.ipynb",
      "provenance": [],
      "collapsed_sections": [],
      "authorship_tag": "ABX9TyOvmgCxp1/bHpaSdRN20/6L",
      "include_colab_link": true
    },
    "kernelspec": {
      "name": "python3",
      "display_name": "Python 3"
    },
    "language_info": {
      "name": "python"
    }
  },
  "cells": [
    {
      "cell_type": "markdown",
      "metadata": {
        "id": "view-in-github",
        "colab_type": "text"
      },
      "source": [
        "<a href=\"https://colab.research.google.com/github/Srikanth1408/Assignment_1/blob/main/Assignment_1.ipynb\" target=\"_parent\"><img src=\"https://colab.research.google.com/assets/colab-badge.svg\" alt=\"Open In Colab\"/></a>"
      ]
    },
    {
      "cell_type": "code",
      "metadata": {
        "colab": {
          "base_uri": "https://localhost:8080/"
        },
        "id": "oARZJ5TrDDw1",
        "outputId": "afec4b21-8168-4f1b-f04d-de2883654366"
      },
      "source": [
        "import numpy as np\n",
        "\n",
        "def checkOrthogonality(x1, y1, x2, y2, x3, y3, x4, y4):\n",
        "    if (x2-x1 == 0 and x4-x3 == 0):                                             # Both lines have infinite slope\n",
        "        return False\n",
        "    elif (x2-x1 == 0):                                                          # Only line 1 has infinite slope (Lines may be x axis and y axis)\n",
        "        m2 = (y4-y3)/(x4 - x3)\n",
        "        if (m2 == 0):\n",
        "            return True\n",
        "        else:\n",
        "            return False\n",
        "    elif (x4-x3 == 0):                                                          # Only line 2 has infinite slope (Lines may be x axis and y axis)\n",
        "        m1 = (y2-y1)/(x2-x1)\n",
        "        if (m1 == 0):\n",
        "            return True\n",
        "        else:\n",
        "            return False\n",
        "    else:                                                                       # Find slopes of the lines\n",
        "        m1 = (y2-y1)/(x2-x1)\n",
        "        m2 = (y4-y3)/(x4-x3)\n",
        "        if (m1*m2 == -1):                                                       # Check if their product is -1\n",
        "            return True\n",
        "        else:\n",
        "            return False\n",
        "checkOrthogonality(1,0,-1,0,0,1,0,-1)"
      ],
      "execution_count": null,
      "outputs": [
        {
          "output_type": "execute_result",
          "data": {
            "text/plain": [
              "True"
            ]
          },
          "metadata": {},
          "execution_count": 2
        }
      ]
    },
    {
      "cell_type": "code",
      "metadata": {
        "id": "rMTvP3UywnG8",
        "colab": {
          "base_uri": "https://localhost:8080/",
          "height": 35
        },
        "outputId": "4c34b433-4235-456f-f749-9b3f7300f0ea"
      },
      "source": [
        "\n",
        "import numpy as np \n",
        "\n",
        "def Rhombus_check(a):\n",
        "  z = a\n",
        "  D1 = np.sqrt(pow((z[0][0]-z[1][0]),2)+pow((z[0][1]-z[1][1]),2))\n",
        "  D2 = np.sqrt(pow((z[1][0]-z[2][0]),2)+pow((z[1][1]-z[2][1]),2))\n",
        "  D3 = np.sqrt(pow((z[2][0]-z[3][0]),2)+pow((z[2][1]-z[3][1]),2))\n",
        "  D4 = np.sqrt(pow((z[3][0]-z[0][0]),2)+pow((z[3][1]-z[0][1]),2))\n",
        "  E = (z[0]+z[2])/2\n",
        "  F = (z[1]+z[3])/2\n",
        " \n",
        "  if (D1 == D2 == D3 == D4) and (checkOrthogonality(z[0][0],z[0][1],z[2][0],z[2][1],z[1][0],z[1][1],z[3][0],z[3][1])) and np.array_equal(E,F): \n",
        "      return \"Given figure is Rhombus\"\n",
        "    \n",
        "Rhombus_check(np.array([[1,1],[1,-1],[-1,-1],[-1,1]]))\n"
      ],
      "execution_count": null,
      "outputs": [
        {
          "output_type": "execute_result",
          "data": {
            "application/vnd.google.colaboratory.intrinsic+json": {
              "type": "string"
            },
            "text/plain": [
              "'Given figure is Rhombus'"
            ]
          },
          "metadata": {},
          "execution_count": 3
        }
      ]
    },
    {
      "cell_type": "code",
      "metadata": {
        "id": "IuSSQWBDJh-B"
      },
      "source": [
        ""
      ],
      "execution_count": null,
      "outputs": []
    }
  ]
}