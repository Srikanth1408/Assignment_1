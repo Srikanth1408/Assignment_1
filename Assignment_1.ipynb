{
  "nbformat": 4,
  "nbformat_minor": 0,
  "metadata": {
    "colab": {
      "name": "Assignment_1.ipynb",
      "provenance": [],
      "collapsed_sections": [],
      "authorship_tag": "ABX9TyNplY4GFA9Uk9Wc/G4o8KqV",
      "include_colab_link": true
    },
    "kernelspec": {
      "name": "python3",
      "display_name": "Python 3"
    },
    "language_info": {
      "name": "python"
    }
  },
  "cells": [
    {
      "cell_type": "markdown",
      "metadata": {
        "id": "view-in-github",
        "colab_type": "text"
      },
      "source": [
        "<a href=\"https://colab.research.google.com/github/Srikanth1408/Assignment_1/blob/main/Assignment_1.ipynb\" target=\"_parent\"><img src=\"https://colab.research.google.com/assets/colab-badge.svg\" alt=\"Open In Colab\"/></a>"
      ]
    },
    {
      "cell_type": "code",
      "metadata": {
        "id": "IuSSQWBDJh-B",
        "colab": {
          "base_uri": "https://localhost:8080/"
        },
        "outputId": "8343c7da-94ae-4c45-8f5a-693090af7987"
      },
      "source": [
        "import numpy as np\n",
        "def Rhombus_check (a,b,c,d):\n",
        "  z=(a,b,c,d)\n",
        "  s=0\n",
        "  D1 = np.sqrt(pow((z[0][0]-z[1][0]),2)+pow((z[0][1]-z[1][1]),2))\n",
        "  D2 = np.sqrt(pow((z[1][0]-z[2][0]),2)+pow((z[1][1]-z[2][1]),2))\n",
        "  D3 = np.sqrt(pow((z[2][0]-z[3][0]),2)+pow((z[2][1]-z[3][1]),2))\n",
        "  D4 = np.sqrt(pow((z[3][0]-z[0][0]),2)+pow((z[3][1]-z[0][1]),2))\n",
        "  if (D1==D2==D3==D4):\n",
        "    s+=1\n",
        "  i= np.abs(a-b)==np.abs(c-d)\n",
        "  j= np.abs(b-c)==np.abs(d-a)\n",
        "  if (i.all() and j.all()): \n",
        "    s+=1\n",
        "  k=np.dot(np.transpose(a-c),(b-d))\n",
        "  e = (z[0]+z[2])/2\n",
        "  f = (z[1]+z[3])/2 \n",
        "  if (k==0 and np.array_equal(e,f)):\n",
        "    s+=1\n",
        "  if (s==3):\n",
        "    print(\"All sides are equal\")\n",
        "    print('Opposite sides are parallel')\n",
        "    print(\"Lines ac and bd are perpendicular bisectors\")\n",
        "    print('Given points are vertices of a Rhombus ')\n",
        "  else:\n",
        "    print('Given points are not the vertices of a Rhombus ')\n",
        "    \n",
        "\n",
        "Rhombus_check(np.array([0,1]),np.array([1,0]),np.array([0,-1]),np.array([-1,0]))"
      ],
      "execution_count": null,
      "outputs": [
        {
          "output_type": "stream",
          "name": "stdout",
          "text": [
            "All sides are equal\n",
            "Opposite sides are parallel\n",
            "Lines ac and bd are perpendicular bisectors\n",
            "Given points are vertices of a Rhombus \n"
          ]
        }
      ]
    },
    {
      "cell_type": "code",
      "metadata": {
        "id": "b7eNZUhYyFQ4"
      },
      "source": [
        ""
      ],
      "execution_count": null,
      "outputs": []
    }
  ]
}